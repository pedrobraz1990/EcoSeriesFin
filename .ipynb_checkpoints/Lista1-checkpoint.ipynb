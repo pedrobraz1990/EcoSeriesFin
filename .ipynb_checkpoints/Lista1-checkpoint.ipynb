{
 "cells": [
  {
   "cell_type": "markdown",
   "metadata": {},
   "source": [
    "# Lista 1 - Econometria das Séries Financeiras\n",
    "Ref: Aula 20/4/2016\n",
    "\n",
    "Bruno Campos\n",
    "\n",
    "Pedro Mattos #333791\n",
    "\n",
    "Renata Polete\n",
    "\n",
    "\n",
    "\n",
    "\n",
    "Prof: Gustavo Soares\n"
   ]
  },
  {
   "cell_type": "markdown",
   "metadata": {},
   "source": [
    "Importando algumas bibliotecas que serão utilizadas:"
   ]
  },
  {
   "cell_type": "code",
   "execution_count": 1,
   "metadata": {
    "collapsed": true
   },
   "outputs": [],
   "source": [
    "%matplotlib inline\n",
    "\n",
    "import datetime\n",
    "import matplotlib.pyplot as plt\n",
    "import numpy as np\n",
    "import pandas as pd\n",
    "\n",
    "from yahoo_finance import Share"
   ]
  },
  {
   "cell_type": "markdown",
   "metadata": {},
   "source": [
    "## Item: Crie 5 séries de preço ajustado para 5 ativos de diferentes classes de ativo e calcule os log-returns diários, semanais e mensais da série."
   ]
  },
  {
   "cell_type": "markdown",
   "metadata": {},
   "source": [
    "Criando a lista de ações e capturando os preços:"
   ]
  },
  {
   "cell_type": "code",
   "execution_count": 2,
   "metadata": {
    "collapsed": false
   },
   "outputs": [],
   "source": [
    "stocks = ['BRPR3.SA','ENBR3.SA','BVMF3.SA','PETR4.SA','VALE5.SA']\n",
    "\n",
    "prices = pd.DataFrame()\n",
    "for stock in stocks:\n",
    "    s = Share(stock).get_historical('2000-01-01', '2015-12-31')\n",
    "    s = pd.DataFrame(s).pivot_table(index = \"Date\", columns = \"Symbol\", values = \"Adj_Close\",aggfunc = \"last\")\n",
    "    prices = pd.concat([prices, s],axis=1)\n",
    "\n"
   ]
  },
  {
   "cell_type": "code",
   "execution_count": 3,
   "metadata": {
    "collapsed": false
   },
   "outputs": [
    {
     "name": "stderr",
     "output_type": "stream",
     "text": [
      "C:\\Anaconda3\\lib\\site-packages\\ipykernel\\__main__.py:6: FutureWarning: convert_objects is deprecated.  Use the data-type specific converters pd.to_datetime, pd.to_timedelta and pd.to_numeric.\n"
     ]
    }
   ],
   "source": [
    "prices.index = pd.to_datetime(prices.index)    \n",
    "prices = prices[\"2006-01-01\":]\n",
    "prices = prices.replace(to_replace='NaN',value=np.nan)\n",
    "prices = prices.fillna(method='ffill')\n",
    "prices = prices.fillna(method='bfill')\n",
    "prices = prices.convert_objects(convert_numeric=True)"
   ]
  },
  {
   "cell_type": "code",
   "execution_count": 4,
   "metadata": {
    "collapsed": false
   },
   "outputs": [
    {
     "data": {
      "text/html": [
       "<div>\n",
       "<table border=\"1\" class=\"dataframe\">\n",
       "  <thead>\n",
       "    <tr style=\"text-align: right;\">\n",
       "      <th>Symbol</th>\n",
       "      <th>BRPR3.SA</th>\n",
       "      <th>ENBR3.SA</th>\n",
       "      <th>BVMF3.SA</th>\n",
       "      <th>PETR4.SA</th>\n",
       "      <th>VALE5.SA</th>\n",
       "    </tr>\n",
       "  </thead>\n",
       "  <tbody>\n",
       "    <tr>\n",
       "      <th>2006-01-02</th>\n",
       "      <td>7.04</td>\n",
       "      <td>3.76599</td>\n",
       "      <td>9.64</td>\n",
       "      <td>14.87216</td>\n",
       "      <td>16.07684</td>\n",
       "    </tr>\n",
       "    <tr>\n",
       "      <th>2006-01-03</th>\n",
       "      <td>7.04</td>\n",
       "      <td>3.79368</td>\n",
       "      <td>9.64</td>\n",
       "      <td>15.34070</td>\n",
       "      <td>16.75587</td>\n",
       "    </tr>\n",
       "    <tr>\n",
       "      <th>2006-01-04</th>\n",
       "      <td>7.04</td>\n",
       "      <td>3.84906</td>\n",
       "      <td>9.64</td>\n",
       "      <td>15.41488</td>\n",
       "      <td>16.94715</td>\n",
       "    </tr>\n",
       "    <tr>\n",
       "      <th>2006-01-05</th>\n",
       "      <td>7.04</td>\n",
       "      <td>3.91829</td>\n",
       "      <td>9.64</td>\n",
       "      <td>15.38365</td>\n",
       "      <td>17.06382</td>\n",
       "    </tr>\n",
       "    <tr>\n",
       "      <th>2006-01-06</th>\n",
       "      <td>7.04</td>\n",
       "      <td>4.06921</td>\n",
       "      <td>9.64</td>\n",
       "      <td>15.94980</td>\n",
       "      <td>17.03705</td>\n",
       "    </tr>\n",
       "  </tbody>\n",
       "</table>\n",
       "</div>"
      ],
      "text/plain": [
       "Symbol      BRPR3.SA  ENBR3.SA  BVMF3.SA  PETR4.SA  VALE5.SA\n",
       "2006-01-02      7.04   3.76599      9.64  14.87216  16.07684\n",
       "2006-01-03      7.04   3.79368      9.64  15.34070  16.75587\n",
       "2006-01-04      7.04   3.84906      9.64  15.41488  16.94715\n",
       "2006-01-05      7.04   3.91829      9.64  15.38365  17.06382\n",
       "2006-01-06      7.04   4.06921      9.64  15.94980  17.03705"
      ]
     },
     "execution_count": 4,
     "metadata": {},
     "output_type": "execute_result"
    }
   ],
   "source": [
    "dailyPrices = prices\n",
    "dailyPrices.head()"
   ]
  },
  {
   "cell_type": "code",
   "execution_count": 5,
   "metadata": {
    "collapsed": false
   },
   "outputs": [
    {
     "data": {
      "text/html": [
       "<div>\n",
       "<table border=\"1\" class=\"dataframe\">\n",
       "  <thead>\n",
       "    <tr style=\"text-align: right;\">\n",
       "      <th>Symbol</th>\n",
       "      <th>BRPR3.SA</th>\n",
       "      <th>ENBR3.SA</th>\n",
       "      <th>BVMF3.SA</th>\n",
       "      <th>PETR4.SA</th>\n",
       "      <th>VALE5.SA</th>\n",
       "    </tr>\n",
       "  </thead>\n",
       "  <tbody>\n",
       "    <tr>\n",
       "      <th>2006-01-08</th>\n",
       "      <td>7.04</td>\n",
       "      <td>4.06921</td>\n",
       "      <td>9.64</td>\n",
       "      <td>15.94980</td>\n",
       "      <td>17.03705</td>\n",
       "    </tr>\n",
       "    <tr>\n",
       "      <th>2006-01-15</th>\n",
       "      <td>7.04</td>\n",
       "      <td>4.25751</td>\n",
       "      <td>9.64</td>\n",
       "      <td>16.63308</td>\n",
       "      <td>17.69504</td>\n",
       "    </tr>\n",
       "    <tr>\n",
       "      <th>2006-01-22</th>\n",
       "      <td>7.04</td>\n",
       "      <td>4.12597</td>\n",
       "      <td>9.64</td>\n",
       "      <td>17.27732</td>\n",
       "      <td>17.96091</td>\n",
       "    </tr>\n",
       "    <tr>\n",
       "      <th>2006-01-29</th>\n",
       "      <td>7.04</td>\n",
       "      <td>4.59674</td>\n",
       "      <td>9.64</td>\n",
       "      <td>17.56625</td>\n",
       "      <td>18.47736</td>\n",
       "    </tr>\n",
       "    <tr>\n",
       "      <th>2006-02-05</th>\n",
       "      <td>7.04</td>\n",
       "      <td>4.56903</td>\n",
       "      <td>9.64</td>\n",
       "      <td>17.25389</td>\n",
       "      <td>17.67400</td>\n",
       "    </tr>\n",
       "  </tbody>\n",
       "</table>\n",
       "</div>"
      ],
      "text/plain": [
       "Symbol      BRPR3.SA  ENBR3.SA  BVMF3.SA  PETR4.SA  VALE5.SA\n",
       "2006-01-08      7.04   4.06921      9.64  15.94980  17.03705\n",
       "2006-01-15      7.04   4.25751      9.64  16.63308  17.69504\n",
       "2006-01-22      7.04   4.12597      9.64  17.27732  17.96091\n",
       "2006-01-29      7.04   4.59674      9.64  17.56625  18.47736\n",
       "2006-02-05      7.04   4.56903      9.64  17.25389  17.67400"
      ]
     },
     "execution_count": 5,
     "metadata": {},
     "output_type": "execute_result"
    }
   ],
   "source": [
    "weeklyPrices = prices.resample(rule=\"W\").last()\n",
    "weeklyPrices.head()"
   ]
  },
  {
   "cell_type": "code",
   "execution_count": 6,
   "metadata": {
    "collapsed": false
   },
   "outputs": [
    {
     "data": {
      "text/html": [
       "<div>\n",
       "<table border=\"1\" class=\"dataframe\">\n",
       "  <thead>\n",
       "    <tr style=\"text-align: right;\">\n",
       "      <th>Symbol</th>\n",
       "      <th>BRPR3.SA</th>\n",
       "      <th>ENBR3.SA</th>\n",
       "      <th>BVMF3.SA</th>\n",
       "      <th>PETR4.SA</th>\n",
       "      <th>VALE5.SA</th>\n",
       "    </tr>\n",
       "  </thead>\n",
       "  <tbody>\n",
       "    <tr>\n",
       "      <th>2006-01-31</th>\n",
       "      <td>7.04</td>\n",
       "      <td>4.63686</td>\n",
       "      <td>9.64</td>\n",
       "      <td>18.35105</td>\n",
       "      <td>18.70690</td>\n",
       "    </tr>\n",
       "    <tr>\n",
       "      <th>2006-02-28</th>\n",
       "      <td>7.04</td>\n",
       "      <td>4.49979</td>\n",
       "      <td>9.64</td>\n",
       "      <td>17.46083</td>\n",
       "      <td>17.29144</td>\n",
       "    </tr>\n",
       "    <tr>\n",
       "      <th>2006-03-31</th>\n",
       "      <td>7.04</td>\n",
       "      <td>4.17996</td>\n",
       "      <td>9.64</td>\n",
       "      <td>16.84392</td>\n",
       "      <td>17.88632</td>\n",
       "    </tr>\n",
       "    <tr>\n",
       "      <th>2006-04-30</th>\n",
       "      <td>7.04</td>\n",
       "      <td>4.29211</td>\n",
       "      <td>9.64</td>\n",
       "      <td>18.35867</td>\n",
       "      <td>17.69313</td>\n",
       "    </tr>\n",
       "    <tr>\n",
       "      <th>2006-05-31</th>\n",
       "      <td>7.04</td>\n",
       "      <td>3.87675</td>\n",
       "      <td>9.64</td>\n",
       "      <td>17.47310</td>\n",
       "      <td>16.84768</td>\n",
       "    </tr>\n",
       "  </tbody>\n",
       "</table>\n",
       "</div>"
      ],
      "text/plain": [
       "Symbol      BRPR3.SA  ENBR3.SA  BVMF3.SA  PETR4.SA  VALE5.SA\n",
       "2006-01-31      7.04   4.63686      9.64  18.35105  18.70690\n",
       "2006-02-28      7.04   4.49979      9.64  17.46083  17.29144\n",
       "2006-03-31      7.04   4.17996      9.64  16.84392  17.88632\n",
       "2006-04-30      7.04   4.29211      9.64  18.35867  17.69313\n",
       "2006-05-31      7.04   3.87675      9.64  17.47310  16.84768"
      ]
     },
     "execution_count": 6,
     "metadata": {},
     "output_type": "execute_result"
    }
   ],
   "source": [
    "monthlyPrices = prices.resample(rule=\"M\").last()\n",
    "monthlyPrices.head()"
   ]
  },
  {
   "cell_type": "code",
   "execution_count": 9,
   "metadata": {
    "collapsed": false
   },
   "outputs": [
    {
     "data": {
      "text/html": [
       "<div>\n",
       "<table border=\"1\" class=\"dataframe\">\n",
       "  <thead>\n",
       "    <tr style=\"text-align: right;\">\n",
       "      <th>Symbol</th>\n",
       "      <th>BRPR3.SA</th>\n",
       "      <th>ENBR3.SA</th>\n",
       "      <th>BVMF3.SA</th>\n",
       "      <th>PETR4.SA</th>\n",
       "      <th>VALE5.SA</th>\n",
       "    </tr>\n",
       "  </thead>\n",
       "  <tbody>\n",
       "    <tr>\n",
       "      <th>2006-01-02</th>\n",
       "      <td>NaN</td>\n",
       "      <td>NaN</td>\n",
       "      <td>NaN</td>\n",
       "      <td>NaN</td>\n",
       "      <td>NaN</td>\n",
       "    </tr>\n",
       "    <tr>\n",
       "      <th>2006-01-03</th>\n",
       "      <td>0.0</td>\n",
       "      <td>0.007353</td>\n",
       "      <td>0.0</td>\n",
       "      <td>0.031505</td>\n",
       "      <td>0.042237</td>\n",
       "    </tr>\n",
       "    <tr>\n",
       "      <th>2006-01-04</th>\n",
       "      <td>0.0</td>\n",
       "      <td>0.014598</td>\n",
       "      <td>0.0</td>\n",
       "      <td>0.004836</td>\n",
       "      <td>0.011416</td>\n",
       "    </tr>\n",
       "    <tr>\n",
       "      <th>2006-01-05</th>\n",
       "      <td>0.0</td>\n",
       "      <td>0.017986</td>\n",
       "      <td>0.0</td>\n",
       "      <td>-0.002026</td>\n",
       "      <td>0.006884</td>\n",
       "    </tr>\n",
       "    <tr>\n",
       "      <th>2006-01-06</th>\n",
       "      <td>0.0</td>\n",
       "      <td>0.038517</td>\n",
       "      <td>0.0</td>\n",
       "      <td>0.036802</td>\n",
       "      <td>-0.001569</td>\n",
       "    </tr>\n",
       "  </tbody>\n",
       "</table>\n",
       "</div>"
      ],
      "text/plain": [
       "Symbol      BRPR3.SA  ENBR3.SA  BVMF3.SA  PETR4.SA  VALE5.SA\n",
       "2006-01-02       NaN       NaN       NaN       NaN       NaN\n",
       "2006-01-03       0.0  0.007353       0.0  0.031505  0.042237\n",
       "2006-01-04       0.0  0.014598       0.0  0.004836  0.011416\n",
       "2006-01-05       0.0  0.017986       0.0 -0.002026  0.006884\n",
       "2006-01-06       0.0  0.038517       0.0  0.036802 -0.001569"
      ]
     },
     "execution_count": 9,
     "metadata": {},
     "output_type": "execute_result"
    }
   ],
   "source": [
    "dailyReturns = dailyPrices.pct_change()\n",
    "dailyReturns.head()"
   ]
  },
  {
   "cell_type": "code",
   "execution_count": 10,
   "metadata": {
    "collapsed": false
   },
   "outputs": [
    {
     "data": {
      "text/html": [
       "<div>\n",
       "<table border=\"1\" class=\"dataframe\">\n",
       "  <thead>\n",
       "    <tr style=\"text-align: right;\">\n",
       "      <th>Symbol</th>\n",
       "      <th>BRPR3.SA</th>\n",
       "      <th>ENBR3.SA</th>\n",
       "      <th>BVMF3.SA</th>\n",
       "      <th>PETR4.SA</th>\n",
       "      <th>VALE5.SA</th>\n",
       "    </tr>\n",
       "  </thead>\n",
       "  <tbody>\n",
       "    <tr>\n",
       "      <th>2006-01-08</th>\n",
       "      <td>NaN</td>\n",
       "      <td>NaN</td>\n",
       "      <td>NaN</td>\n",
       "      <td>NaN</td>\n",
       "      <td>NaN</td>\n",
       "    </tr>\n",
       "    <tr>\n",
       "      <th>2006-01-15</th>\n",
       "      <td>0.0</td>\n",
       "      <td>0.046274</td>\n",
       "      <td>0.0</td>\n",
       "      <td>0.042839</td>\n",
       "      <td>0.038621</td>\n",
       "    </tr>\n",
       "    <tr>\n",
       "      <th>2006-01-22</th>\n",
       "      <td>0.0</td>\n",
       "      <td>-0.030896</td>\n",
       "      <td>0.0</td>\n",
       "      <td>0.038732</td>\n",
       "      <td>0.015025</td>\n",
       "    </tr>\n",
       "    <tr>\n",
       "      <th>2006-01-29</th>\n",
       "      <td>0.0</td>\n",
       "      <td>0.114099</td>\n",
       "      <td>0.0</td>\n",
       "      <td>0.016723</td>\n",
       "      <td>0.028754</td>\n",
       "    </tr>\n",
       "    <tr>\n",
       "      <th>2006-02-05</th>\n",
       "      <td>0.0</td>\n",
       "      <td>-0.006028</td>\n",
       "      <td>0.0</td>\n",
       "      <td>-0.017782</td>\n",
       "      <td>-0.043478</td>\n",
       "    </tr>\n",
       "  </tbody>\n",
       "</table>\n",
       "</div>"
      ],
      "text/plain": [
       "Symbol      BRPR3.SA  ENBR3.SA  BVMF3.SA  PETR4.SA  VALE5.SA\n",
       "2006-01-08       NaN       NaN       NaN       NaN       NaN\n",
       "2006-01-15       0.0  0.046274       0.0  0.042839  0.038621\n",
       "2006-01-22       0.0 -0.030896       0.0  0.038732  0.015025\n",
       "2006-01-29       0.0  0.114099       0.0  0.016723  0.028754\n",
       "2006-02-05       0.0 -0.006028       0.0 -0.017782 -0.043478"
      ]
     },
     "execution_count": 10,
     "metadata": {},
     "output_type": "execute_result"
    }
   ],
   "source": [
    "weeklyReturns = weeklyPrices.pct_change()\n",
    "weeklyReturns.head()"
   ]
  },
  {
   "cell_type": "code",
   "execution_count": 11,
   "metadata": {
    "collapsed": false
   },
   "outputs": [
    {
     "data": {
      "text/html": [
       "<div>\n",
       "<table border=\"1\" class=\"dataframe\">\n",
       "  <thead>\n",
       "    <tr style=\"text-align: right;\">\n",
       "      <th>Symbol</th>\n",
       "      <th>BRPR3.SA</th>\n",
       "      <th>ENBR3.SA</th>\n",
       "      <th>BVMF3.SA</th>\n",
       "      <th>PETR4.SA</th>\n",
       "      <th>VALE5.SA</th>\n",
       "    </tr>\n",
       "  </thead>\n",
       "  <tbody>\n",
       "    <tr>\n",
       "      <th>2006-01-31</th>\n",
       "      <td>NaN</td>\n",
       "      <td>NaN</td>\n",
       "      <td>NaN</td>\n",
       "      <td>NaN</td>\n",
       "      <td>NaN</td>\n",
       "    </tr>\n",
       "    <tr>\n",
       "      <th>2006-02-28</th>\n",
       "      <td>0.0</td>\n",
       "      <td>-0.029561</td>\n",
       "      <td>0.0</td>\n",
       "      <td>-0.048511</td>\n",
       "      <td>-0.075665</td>\n",
       "    </tr>\n",
       "    <tr>\n",
       "      <th>2006-03-31</th>\n",
       "      <td>0.0</td>\n",
       "      <td>-0.071077</td>\n",
       "      <td>0.0</td>\n",
       "      <td>-0.035331</td>\n",
       "      <td>0.034403</td>\n",
       "    </tr>\n",
       "    <tr>\n",
       "      <th>2006-04-30</th>\n",
       "      <td>0.0</td>\n",
       "      <td>0.026830</td>\n",
       "      <td>0.0</td>\n",
       "      <td>0.089929</td>\n",
       "      <td>-0.010801</td>\n",
       "    </tr>\n",
       "    <tr>\n",
       "      <th>2006-05-31</th>\n",
       "      <td>0.0</td>\n",
       "      <td>-0.096773</td>\n",
       "      <td>0.0</td>\n",
       "      <td>-0.048237</td>\n",
       "      <td>-0.047784</td>\n",
       "    </tr>\n",
       "  </tbody>\n",
       "</table>\n",
       "</div>"
      ],
      "text/plain": [
       "Symbol      BRPR3.SA  ENBR3.SA  BVMF3.SA  PETR4.SA  VALE5.SA\n",
       "2006-01-31       NaN       NaN       NaN       NaN       NaN\n",
       "2006-02-28       0.0 -0.029561       0.0 -0.048511 -0.075665\n",
       "2006-03-31       0.0 -0.071077       0.0 -0.035331  0.034403\n",
       "2006-04-30       0.0  0.026830       0.0  0.089929 -0.010801\n",
       "2006-05-31       0.0 -0.096773       0.0 -0.048237 -0.047784"
      ]
     },
     "execution_count": 11,
     "metadata": {},
     "output_type": "execute_result"
    }
   ],
   "source": [
    "monthlyReturns = monthlyPrices.pct_change()\n",
    "monthlyReturns.head()"
   ]
  },
  {
   "cell_type": "markdown",
   "metadata": {},
   "source": [
    "# Item: Estatísticas Descritivas e hipótese de log normalidade"
   ]
  },
  {
   "cell_type": "markdown",
   "metadata": {},
   "source": [
    "## Daily Returns"
   ]
  },
  {
   "cell_type": "code",
   "execution_count": 15,
   "metadata": {
    "collapsed": false
   },
   "outputs": [
    {
     "data": {
      "text/plain": [
       "Symbol\n",
       "BRPR3.SA    0.000179\n",
       "ENBR3.SA    0.000654\n",
       "BVMF3.SA    0.000157\n",
       "PETR4.SA    0.000034\n",
       "VALE5.SA    0.000110\n",
       "dtype: float64"
      ]
     },
     "execution_count": 15,
     "metadata": {},
     "output_type": "execute_result"
    }
   ],
   "source": [
    "dailyReturns.mean()"
   ]
  },
  {
   "cell_type": "code",
   "execution_count": 16,
   "metadata": {
    "collapsed": false
   },
   "outputs": [
    {
     "data": {
      "text/plain": [
       "Symbol\n",
       "BRPR3.SA    0.201989\n",
       "ENBR3.SA    0.194469\n",
       "BVMF3.SA    0.313205\n",
       "PETR4.SA    0.227549\n",
       "VALE5.SA    0.136003\n",
       "dtype: float64"
      ]
     },
     "execution_count": 16,
     "metadata": {},
     "output_type": "execute_result"
    }
   ],
   "source": [
    "dailyReturns.skew()"
   ]
  },
  {
   "cell_type": "code",
   "execution_count": 18,
   "metadata": {
    "collapsed": false,
    "scrolled": false
   },
   "outputs": [
    {
     "data": {
      "text/plain": [
       "Symbol\n",
       "BRPR3.SA    6.313662\n",
       "ENBR3.SA    2.693506\n",
       "BVMF3.SA    5.844418\n",
       "PETR4.SA    3.724426\n",
       "VALE5.SA    3.783333\n",
       "dtype: float64"
      ]
     },
     "execution_count": 18,
     "metadata": {},
     "output_type": "execute_result"
    }
   ],
   "source": [
    "dailyReturns.kurt()"
   ]
  },
  {
   "cell_type": "markdown",
   "metadata": {},
   "source": [
    "As médias são muito próximas de zero, o que corrobora com a hipótese de log normalidade. Porém não só as assimetrias são positivas como quase todos os ativos possuem caudas mais pesadas do que a normal. Curiosamente ENBR3 tem as caudas mais leves."
   ]
  },
  {
   "cell_type": "markdown",
   "metadata": {},
   "source": [
    "## Weekly Returns"
   ]
  },
  {
   "cell_type": "code",
   "execution_count": 19,
   "metadata": {
    "collapsed": false
   },
   "outputs": [
    {
     "data": {
      "text/plain": [
       "Symbol\n",
       "BRPR3.SA    0.000797\n",
       "ENBR3.SA    0.002903\n",
       "BVMF3.SA    0.000738\n",
       "PETR4.SA   -0.000143\n",
       "VALE5.SA    0.000212\n",
       "dtype: float64"
      ]
     },
     "execution_count": 19,
     "metadata": {},
     "output_type": "execute_result"
    }
   ],
   "source": [
    "weeklyReturns.mean()"
   ]
  },
  {
   "cell_type": "code",
   "execution_count": 20,
   "metadata": {
    "collapsed": false
   },
   "outputs": [
    {
     "data": {
      "text/plain": [
       "Symbol\n",
       "BRPR3.SA    0.038419\n",
       "ENBR3.SA    0.173600\n",
       "BVMF3.SA    0.223158\n",
       "PETR4.SA   -0.040946\n",
       "VALE5.SA    0.415477\n",
       "dtype: float64"
      ]
     },
     "execution_count": 20,
     "metadata": {},
     "output_type": "execute_result"
    }
   ],
   "source": [
    "weeklyReturns.skew()"
   ]
  },
  {
   "cell_type": "code",
   "execution_count": 21,
   "metadata": {
    "collapsed": false,
    "scrolled": false
   },
   "outputs": [
    {
     "data": {
      "text/plain": [
       "Symbol\n",
       "BRPR3.SA    3.445848\n",
       "ENBR3.SA    1.222890\n",
       "BVMF3.SA    5.051156\n",
       "PETR4.SA    1.610172\n",
       "VALE5.SA    2.185269\n",
       "dtype: float64"
      ]
     },
     "execution_count": 21,
     "metadata": {},
     "output_type": "execute_result"
    }
   ],
   "source": [
    "weeklyReturns.kurt()"
   ]
  },
  {
   "cell_type": "markdown",
   "metadata": {},
   "source": [
    "As médias são muito próximas de zero, o que corrobora com a hipótese de log normalidade. Porém não só as assimetrias são positivas como quase todos os ativos possuem caudas mais pesadas do que a normal."
   ]
  }
 ],
 "metadata": {
  "kernelspec": {
   "display_name": "Python 3",
   "language": "python",
   "name": "python3"
  },
  "language_info": {
   "codemirror_mode": {
    "name": "ipython",
    "version": 3
   },
   "file_extension": ".py",
   "mimetype": "text/x-python",
   "name": "python",
   "nbconvert_exporter": "python",
   "pygments_lexer": "ipython3",
   "version": "3.5.1"
  }
 },
 "nbformat": 4,
 "nbformat_minor": 0
}
