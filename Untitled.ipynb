{
 "cells": [
  {
   "cell_type": "markdown",
   "metadata": {},
   "source": [
    "# Lista 1 - Econometria das Séries Financeiras\n",
    "Ref: Aula 20/4/2016\n",
    "\n",
    "Bruno Campos\n",
    "\n",
    "Pedro Mattos #333791\n",
    "\n",
    "Renata Polete\n",
    "\n",
    "\n",
    "\n",
    "\n",
    "Prof: Gustavo Soares\n"
   ]
  },
  {
   "cell_type": "code",
   "execution_count": null,
   "metadata": {
    "collapsed": true
   },
   "outputs": [],
   "source": []
  }
 ],
 "metadata": {
  "kernelspec": {
   "display_name": "R",
   "language": "R",
   "name": "ir"
  },
  "language_info": {
   "codemirror_mode": "r",
   "file_extension": ".r",
   "mimetype": "text/x-r-source",
   "name": "R",
   "pygments_lexer": "r",
   "version": "3.2.4"
  }
 },
 "nbformat": 4,
 "nbformat_minor": 0
}
