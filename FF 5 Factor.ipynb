{
 "cells": [
  {
   "cell_type": "code",
   "execution_count": 10,
   "metadata": {
    "collapsed": true
   },
   "outputs": [],
   "source": [
    "%matplotlib inline\n",
    "\n",
    "import pandas as pd\n",
    "import datetime\n",
    "import calendar\n",
    "import seaborn as sns\n",
    "\n",
    "\n",
    "import plotly.plotly as py\n",
    "import plotly.graph_objs as go"
   ]
  },
  {
   "cell_type": "code",
   "execution_count": 2,
   "metadata": {
    "collapsed": true
   },
   "outputs": [],
   "source": [
    "def parseDate(dateStr):\n",
    "    dateStr = str(dateStr)\n",
    "    dat = pd.datetime.strptime(dateStr, '%Y%m%d')\n",
    "    return datetime.datetime(dat.year, dat.month, calendar.monthrange(dat.year, dat.month)[1])"
   ]
  },
  {
   "cell_type": "code",
   "execution_count": 3,
   "metadata": {
    "collapsed": false
   },
   "outputs": [],
   "source": [
    "dateparse = lambda x: parseDate(x)\n",
    "\n",
    "df = pd.read_csv(\"Global_5_Factors.csv\", parse_dates=True,index_col=0, sep=\";\",date_parser=dateparse)"
   ]
  },
  {
   "cell_type": "code",
   "execution_count": 4,
   "metadata": {
    "collapsed": false
   },
   "outputs": [
    {
     "data": {
      "text/html": [
       "<div>\n",
       "<table border=\"1\" class=\"dataframe\">\n",
       "  <thead>\n",
       "    <tr style=\"text-align: right;\">\n",
       "      <th></th>\n",
       "      <th>Mkt-RF</th>\n",
       "      <th>SMB</th>\n",
       "      <th>HML</th>\n",
       "      <th>RMW</th>\n",
       "      <th>CMA</th>\n",
       "      <th>RF</th>\n",
       "    </tr>\n",
       "    <tr>\n",
       "      <th>Date</th>\n",
       "      <th></th>\n",
       "      <th></th>\n",
       "      <th></th>\n",
       "      <th></th>\n",
       "      <th></th>\n",
       "      <th></th>\n",
       "    </tr>\n",
       "  </thead>\n",
       "  <tbody>\n",
       "    <tr>\n",
       "      <th>1990-07-31</th>\n",
       "      <td>0.79</td>\n",
       "      <td>0.07</td>\n",
       "      <td>0.24</td>\n",
       "      <td>0.09</td>\n",
       "      <td>1.67</td>\n",
       "      <td>0.68</td>\n",
       "    </tr>\n",
       "    <tr>\n",
       "      <th>1990-08-31</th>\n",
       "      <td>-10.76</td>\n",
       "      <td>-1.56</td>\n",
       "      <td>0.42</td>\n",
       "      <td>0.20</td>\n",
       "      <td>1.09</td>\n",
       "      <td>0.66</td>\n",
       "    </tr>\n",
       "    <tr>\n",
       "      <th>1990-09-30</th>\n",
       "      <td>-12.24</td>\n",
       "      <td>1.68</td>\n",
       "      <td>0.34</td>\n",
       "      <td>0.47</td>\n",
       "      <td>2.07</td>\n",
       "      <td>0.60</td>\n",
       "    </tr>\n",
       "    <tr>\n",
       "      <th>1990-10-31</th>\n",
       "      <td>9.58</td>\n",
       "      <td>-8.11</td>\n",
       "      <td>-3.29</td>\n",
       "      <td>1.30</td>\n",
       "      <td>1.28</td>\n",
       "      <td>0.68</td>\n",
       "    </tr>\n",
       "    <tr>\n",
       "      <th>1990-11-30</th>\n",
       "      <td>-3.87</td>\n",
       "      <td>1.62</td>\n",
       "      <td>0.68</td>\n",
       "      <td>1.99</td>\n",
       "      <td>-2.60</td>\n",
       "      <td>0.57</td>\n",
       "    </tr>\n",
       "  </tbody>\n",
       "</table>\n",
       "</div>"
      ],
      "text/plain": [
       "            Mkt-RF   SMB   HML   RMW   CMA    RF\n",
       "Date                                            \n",
       "1990-07-31    0.79  0.07  0.24  0.09  1.67  0.68\n",
       "1990-08-31  -10.76 -1.56  0.42  0.20  1.09  0.66\n",
       "1990-09-30  -12.24  1.68  0.34  0.47  2.07  0.60\n",
       "1990-10-31    9.58 -8.11 -3.29  1.30  1.28  0.68\n",
       "1990-11-30   -3.87  1.62  0.68  1.99 -2.60  0.57"
      ]
     },
     "execution_count": 4,
     "metadata": {},
     "output_type": "execute_result"
    }
   ],
   "source": [
    "df.head()"
   ]
  },
  {
   "cell_type": "code",
   "execution_count": 11,
   "metadata": {
    "collapsed": false
   },
   "outputs": [
    {
     "data": {
      "text/html": [
       "<iframe id=\"igraph\" scrolling=\"no\" style=\"border:none;\" seamless=\"seamless\" src=\"https://plot.ly/~pedrobraz/85.embed\" height=\"525px\" width=\"100%\"></iframe>"
      ],
      "text/plain": [
       "<plotly.tools.PlotlyDisplay object>"
      ]
     },
     "execution_count": 11,
     "metadata": {},
     "output_type": "execute_result"
    }
   ],
   "source": [
    "data = [\n",
    "    go.Scatter(\n",
    "        x=df.index,\n",
    "        y=df['Mkt-RF']\n",
    "    )\n",
    "]\n",
    "# IPython notebook\n",
    "# py.iplot(data, filename='pandas/basic-line-plot')\n",
    "\n",
    "py.iplot(data, filename='pandas/basic-line-plot')"
   ]
  },
  {
   "cell_type": "code",
   "execution_count": null,
   "metadata": {
    "collapsed": true
   },
   "outputs": [],
   "source": []
  }
 ],
 "metadata": {
  "kernelspec": {
   "display_name": "Python 3",
   "language": "python",
   "name": "python3"
  },
  "language_info": {
   "codemirror_mode": {
    "name": "ipython",
    "version": 3
   },
   "file_extension": ".py",
   "mimetype": "text/x-python",
   "name": "python",
   "nbconvert_exporter": "python",
   "pygments_lexer": "ipython3",
   "version": "3.5.1"
  }
 },
 "nbformat": 4,
 "nbformat_minor": 0
}
